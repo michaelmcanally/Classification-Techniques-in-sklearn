{
    "nbformat_minor": 2, 
    "cells": [
        {
            "source": "In this notebook we try to practice a variety of classification algorithms from the 'sklean' Python package. \n\nWe load a dataset using Pandas library, apply multiple classification algorithms, and find the best one for this specific dataset by accuracy evaluation methods.\n\nLets first load required libraries:", 
            "cell_type": "markdown", 
            "metadata": {
                "button": false, 
                "new_sheet": false, 
                "run_control": {
                    "read_only": false
                }
            }
        }, 
        {
            "execution_count": 1, 
            "cell_type": "code", 
            "metadata": {
                "button": false, 
                "new_sheet": false, 
                "run_control": {
                    "read_only": false
                }
            }, 
            "outputs": [], 
            "source": "import itertools\nimport numpy as np\nimport matplotlib.pyplot as plt\nfrom matplotlib.ticker import NullFormatter\nimport pandas as pd\nimport numpy as np\nimport matplotlib.ticker as ticker\nfrom sklearn import preprocessing\n%matplotlib inline"
        }, 
        {
            "source": "### About dataset", 
            "cell_type": "markdown", 
            "metadata": {
                "button": false, 
                "new_sheet": false, 
                "run_control": {
                    "read_only": false
                }
            }
        }, 
        {
            "source": "This dataset is about past loans. The __Loan_train.csv__ data set includes details of 346 customers whose loan are already paid off or defaulted. It includes following fields:\n\n| Field          | Description                                                                           |\n|----------------|---------------------------------------------------------------------------------------|\n| Loan_status    | Whether a loan is paid off on in collection                                           |\n| Principal      | Basic principal loan amount at the                                                    |\n| Terms          | Origination terms which can be weekly (7 days), biweekly, and monthly payoff schedule |\n| Effective_date | When the loan got originated and took effects                                         |\n| Due_date       | Since it\u2019s one-time payoff schedule, each loan has one single due date                |\n| Age            | Age of applicant                                                                      |\n| Education      | Education of applicant                                                                |\n| Gender         | The gender of applicant                                                               |", 
            "cell_type": "markdown", 
            "metadata": {
                "button": false, 
                "new_sheet": false, 
                "run_control": {
                    "read_only": false
                }
            }
        }, 
        {
            "source": "Lets download the dataset", 
            "cell_type": "markdown", 
            "metadata": {
                "button": false, 
                "new_sheet": false, 
                "run_control": {
                    "read_only": false
                }
            }
        }, 
        {
            "execution_count": 2, 
            "cell_type": "code", 
            "metadata": {
                "button": false, 
                "new_sheet": false, 
                "run_control": {
                    "read_only": false
                }
            }, 
            "outputs": [
                {
                    "output_type": "stream", 
                    "name": "stdout", 
                    "text": "--2019-05-11 12:30:07--  https://s3-api.us-geo.objectstorage.softlayer.net/cf-courses-data/CognitiveClass/ML0101ENv3/labs/loan_train.csv\nResolving s3-api.us-geo.objectstorage.softlayer.net (s3-api.us-geo.objectstorage.softlayer.net)... 67.228.254.193\nConnecting to s3-api.us-geo.objectstorage.softlayer.net (s3-api.us-geo.objectstorage.softlayer.net)|67.228.254.193|:443... connected.\nHTTP request sent, awaiting response... 200 OK\nLength: 23101 (23K) [text/csv]\nSaving to: \u2018loan_train.csv\u2019\n\n100%[======================================>] 23,101      --.-K/s   in 0.002s  \n\n2019-05-11 12:30:07 (11.3 MB/s) - \u2018loan_train.csv\u2019 saved [23101/23101]\n\n"
                }
            ], 
            "source": "!wget -O loan_train.csv https://s3-api.us-geo.objectstorage.softlayer.net/cf-courses-data/CognitiveClass/ML0101ENv3/labs/loan_train.csv"
        }, 
        {
            "source": "### Load Data From CSV File  ", 
            "cell_type": "markdown", 
            "metadata": {
                "button": false, 
                "new_sheet": false, 
                "run_control": {
                    "read_only": false
                }
            }
        }, 
        {
            "execution_count": 3, 
            "cell_type": "code", 
            "metadata": {
                "button": false, 
                "new_sheet": false, 
                "run_control": {
                    "read_only": false
                }
            }, 
            "outputs": [
                {
                    "execution_count": 3, 
                    "metadata": {}, 
                    "data": {
                        "text/html": "<div>\n<style scoped>\n    .dataframe tbody tr th:only-of-type {\n        vertical-align: middle;\n    }\n\n    .dataframe tbody tr th {\n        vertical-align: top;\n    }\n\n    .dataframe thead th {\n        text-align: right;\n    }\n</style>\n<table border=\"1\" class=\"dataframe\">\n  <thead>\n    <tr style=\"text-align: right;\">\n      <th></th>\n      <th>Unnamed: 0</th>\n      <th>Unnamed: 0.1</th>\n      <th>loan_status</th>\n      <th>Principal</th>\n      <th>terms</th>\n      <th>effective_date</th>\n      <th>due_date</th>\n      <th>age</th>\n      <th>education</th>\n      <th>Gender</th>\n    </tr>\n  </thead>\n  <tbody>\n    <tr>\n      <th>0</th>\n      <td>0</td>\n      <td>0</td>\n      <td>PAIDOFF</td>\n      <td>1000</td>\n      <td>30</td>\n      <td>9/8/2016</td>\n      <td>10/7/2016</td>\n      <td>45</td>\n      <td>High School or Below</td>\n      <td>male</td>\n    </tr>\n    <tr>\n      <th>1</th>\n      <td>2</td>\n      <td>2</td>\n      <td>PAIDOFF</td>\n      <td>1000</td>\n      <td>30</td>\n      <td>9/8/2016</td>\n      <td>10/7/2016</td>\n      <td>33</td>\n      <td>Bechalor</td>\n      <td>female</td>\n    </tr>\n    <tr>\n      <th>2</th>\n      <td>3</td>\n      <td>3</td>\n      <td>PAIDOFF</td>\n      <td>1000</td>\n      <td>15</td>\n      <td>9/8/2016</td>\n      <td>9/22/2016</td>\n      <td>27</td>\n      <td>college</td>\n      <td>male</td>\n    </tr>\n    <tr>\n      <th>3</th>\n      <td>4</td>\n      <td>4</td>\n      <td>PAIDOFF</td>\n      <td>1000</td>\n      <td>30</td>\n      <td>9/9/2016</td>\n      <td>10/8/2016</td>\n      <td>28</td>\n      <td>college</td>\n      <td>female</td>\n    </tr>\n    <tr>\n      <th>4</th>\n      <td>6</td>\n      <td>6</td>\n      <td>PAIDOFF</td>\n      <td>1000</td>\n      <td>30</td>\n      <td>9/9/2016</td>\n      <td>10/8/2016</td>\n      <td>29</td>\n      <td>college</td>\n      <td>male</td>\n    </tr>\n  </tbody>\n</table>\n</div>", 
                        "text/plain": "   Unnamed: 0  Unnamed: 0.1 loan_status  Principal  terms effective_date  \\\n0           0             0     PAIDOFF       1000     30       9/8/2016   \n1           2             2     PAIDOFF       1000     30       9/8/2016   \n2           3             3     PAIDOFF       1000     15       9/8/2016   \n3           4             4     PAIDOFF       1000     30       9/9/2016   \n4           6             6     PAIDOFF       1000     30       9/9/2016   \n\n    due_date  age             education  Gender  \n0  10/7/2016   45  High School or Below    male  \n1  10/7/2016   33              Bechalor  female  \n2  9/22/2016   27               college    male  \n3  10/8/2016   28               college  female  \n4  10/8/2016   29               college    male  "
                    }, 
                    "output_type": "execute_result"
                }
            ], 
            "source": "df = pd.read_csv('loan_train.csv')\ndf.head()"
        }, 
        {
            "execution_count": 4, 
            "cell_type": "code", 
            "metadata": {}, 
            "outputs": [
                {
                    "execution_count": 4, 
                    "metadata": {}, 
                    "data": {
                        "text/plain": "(346, 10)"
                    }, 
                    "output_type": "execute_result"
                }
            ], 
            "source": "df.shape"
        }, 
        {
            "source": "### Convert to date time object ", 
            "cell_type": "markdown", 
            "metadata": {
                "button": false, 
                "new_sheet": false, 
                "run_control": {
                    "read_only": false
                }
            }
        }, 
        {
            "execution_count": 5, 
            "cell_type": "code", 
            "metadata": {
                "button": false, 
                "new_sheet": false, 
                "run_control": {
                    "read_only": false
                }
            }, 
            "outputs": [
                {
                    "execution_count": 5, 
                    "metadata": {}, 
                    "data": {
                        "text/html": "<div>\n<style scoped>\n    .dataframe tbody tr th:only-of-type {\n        vertical-align: middle;\n    }\n\n    .dataframe tbody tr th {\n        vertical-align: top;\n    }\n\n    .dataframe thead th {\n        text-align: right;\n    }\n</style>\n<table border=\"1\" class=\"dataframe\">\n  <thead>\n    <tr style=\"text-align: right;\">\n      <th></th>\n      <th>Unnamed: 0</th>\n      <th>Unnamed: 0.1</th>\n      <th>loan_status</th>\n      <th>Principal</th>\n      <th>terms</th>\n      <th>effective_date</th>\n      <th>due_date</th>\n      <th>age</th>\n      <th>education</th>\n      <th>Gender</th>\n    </tr>\n  </thead>\n  <tbody>\n    <tr>\n      <th>0</th>\n      <td>0</td>\n      <td>0</td>\n      <td>PAIDOFF</td>\n      <td>1000</td>\n      <td>30</td>\n      <td>2016-09-08</td>\n      <td>2016-10-07</td>\n      <td>45</td>\n      <td>High School or Below</td>\n      <td>male</td>\n    </tr>\n    <tr>\n      <th>1</th>\n      <td>2</td>\n      <td>2</td>\n      <td>PAIDOFF</td>\n      <td>1000</td>\n      <td>30</td>\n      <td>2016-09-08</td>\n      <td>2016-10-07</td>\n      <td>33</td>\n      <td>Bechalor</td>\n      <td>female</td>\n    </tr>\n    <tr>\n      <th>2</th>\n      <td>3</td>\n      <td>3</td>\n      <td>PAIDOFF</td>\n      <td>1000</td>\n      <td>15</td>\n      <td>2016-09-08</td>\n      <td>2016-09-22</td>\n      <td>27</td>\n      <td>college</td>\n      <td>male</td>\n    </tr>\n    <tr>\n      <th>3</th>\n      <td>4</td>\n      <td>4</td>\n      <td>PAIDOFF</td>\n      <td>1000</td>\n      <td>30</td>\n      <td>2016-09-09</td>\n      <td>2016-10-08</td>\n      <td>28</td>\n      <td>college</td>\n      <td>female</td>\n    </tr>\n    <tr>\n      <th>4</th>\n      <td>6</td>\n      <td>6</td>\n      <td>PAIDOFF</td>\n      <td>1000</td>\n      <td>30</td>\n      <td>2016-09-09</td>\n      <td>2016-10-08</td>\n      <td>29</td>\n      <td>college</td>\n      <td>male</td>\n    </tr>\n  </tbody>\n</table>\n</div>", 
                        "text/plain": "   Unnamed: 0  Unnamed: 0.1 loan_status  Principal  terms effective_date  \\\n0           0             0     PAIDOFF       1000     30     2016-09-08   \n1           2             2     PAIDOFF       1000     30     2016-09-08   \n2           3             3     PAIDOFF       1000     15     2016-09-08   \n3           4             4     PAIDOFF       1000     30     2016-09-09   \n4           6             6     PAIDOFF       1000     30     2016-09-09   \n\n    due_date  age             education  Gender  \n0 2016-10-07   45  High School or Below    male  \n1 2016-10-07   33              Bechalor  female  \n2 2016-09-22   27               college    male  \n3 2016-10-08   28               college  female  \n4 2016-10-08   29               college    male  "
                    }, 
                    "output_type": "execute_result"
                }
            ], 
            "source": "df['due_date'] = pd.to_datetime(df['due_date'])\ndf['effective_date'] = pd.to_datetime(df['effective_date'])\ndf.head()"
        }, 
        {
            "source": "# Data visualization and pre-processing\n\n", 
            "cell_type": "markdown", 
            "metadata": {
                "button": false, 
                "new_sheet": false, 
                "run_control": {
                    "read_only": false
                }
            }
        }, 
        {
            "source": "Let\u2019s see how many of each class is in our data set ", 
            "cell_type": "markdown", 
            "metadata": {
                "button": false, 
                "new_sheet": false, 
                "run_control": {
                    "read_only": false
                }
            }
        }, 
        {
            "execution_count": 6, 
            "cell_type": "code", 
            "metadata": {
                "button": false, 
                "new_sheet": false, 
                "run_control": {
                    "read_only": false
                }
            }, 
            "outputs": [
                {
                    "execution_count": 6, 
                    "metadata": {}, 
                    "data": {
                        "text/plain": "PAIDOFF       260\nCOLLECTION     86\nName: loan_status, dtype: int64"
                    }, 
                    "output_type": "execute_result"
                }
            ], 
            "source": "df['loan_status'].value_counts()"
        }, 
        {
            "source": "260 people have paid off the loan on time while 86 have gone into collection \n", 
            "cell_type": "markdown", 
            "metadata": {
                "button": false, 
                "new_sheet": false, 
                "run_control": {
                    "read_only": false
                }
            }
        }, 
        {
            "source": "Lets plot some columns to underestand data better:", 
            "cell_type": "markdown", 
            "metadata": {}
        }, 
        {
            "execution_count": 7, 
            "cell_type": "code", 
            "metadata": {}, 
            "outputs": [
                {
                    "output_type": "stream", 
                    "name": "stdout", 
                    "text": "Solving environment: done\n\n## Package Plan ##\n\n  environment location: /opt/conda/envs/DSX-Python35\n\n  added / updated specs: \n    - seaborn\n\n\nThe following packages will be downloaded:\n\n    package                    |            build\n    ---------------------------|-----------------\n    ca-certificates-2019.1.23  |                0         126 KB  anaconda\n    seaborn-0.9.0              |           py35_0         378 KB  anaconda\n    certifi-2018.8.24          |           py35_1         139 KB  anaconda\n    openssl-1.0.2r             |       h7b6447c_0         3.2 MB  anaconda\n    ------------------------------------------------------------\n                                           Total:         3.8 MB\n\nThe following packages will be UPDATED:\n\n    ca-certificates: 2019.1.23-0          --> 2019.1.23-0       anaconda\n    certifi:         2018.8.24-py35_1     --> 2018.8.24-py35_1  anaconda\n    openssl:         1.0.2p-h14c3975_0    --> 1.0.2r-h7b6447c_0 anaconda\n    seaborn:         0.8.0-py35h15a2772_0 --> 0.9.0-py35_0      anaconda\n\n\nDownloading and Extracting Packages\nca-certificates-2019 | 126 KB    | ##################################### | 100% \nseaborn-0.9.0        | 378 KB    | ##################################### | 100% \ncertifi-2018.8.24    | 139 KB    | ##################################### | 100% \nopenssl-1.0.2r       | 3.2 MB    | ##################################### | 100% \nPreparing transaction: done\nVerifying transaction: done\nExecuting transaction: done\n"
                }
            ], 
            "source": "# notice: installing seaborn might takes a few minutes\n!conda install -c anaconda seaborn -y"
        }, 
        {
            "execution_count": 8, 
            "cell_type": "code", 
            "metadata": {}, 
            "outputs": [
                {
                    "output_type": "display_data", 
                    "data": {
                        "image/png": "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\n", 
                        "text/plain": "<matplotlib.figure.Figure at 0x7fa6c022d080>"
                    }, 
                    "metadata": {}
                }
            ], 
            "source": "import seaborn as sns\n\nbins = np.linspace(df.Principal.min(), df.Principal.max(), 10)\ng = sns.FacetGrid(df, col=\"Gender\", hue=\"loan_status\", palette=\"Set1\", col_wrap=2)\ng.map(plt.hist, 'Principal', bins=bins, ec=\"k\")\n\ng.axes[-1].legend()\nplt.show()"
        }, 
        {
            "execution_count": 9, 
            "cell_type": "code", 
            "metadata": {
                "button": false, 
                "new_sheet": false, 
                "run_control": {
                    "read_only": false
                }
            }, 
            "outputs": [
                {
                    "output_type": "display_data", 
                    "data": {
                        "image/png": "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\n", 
                        "text/plain": "<matplotlib.figure.Figure at 0x7fa67c0b09e8>"
                    }, 
                    "metadata": {}
                }
            ], 
            "source": "bins = np.linspace(df.age.min(), df.age.max(), 10)\ng = sns.FacetGrid(df, col=\"Gender\", hue=\"loan_status\", palette=\"Set1\", col_wrap=2)\ng.map(plt.hist, 'age', bins=bins, ec=\"k\")\n\ng.axes[-1].legend()\nplt.show()"
        }, 
        {
            "source": "# Pre-processing:  Feature selection/extraction", 
            "cell_type": "markdown", 
            "metadata": {
                "button": false, 
                "new_sheet": false, 
                "run_control": {
                    "read_only": false
                }
            }
        }, 
        {
            "source": "### Lets look at the day of the week people get the loan ", 
            "cell_type": "markdown", 
            "metadata": {
                "button": false, 
                "new_sheet": false, 
                "run_control": {
                    "read_only": false
                }
            }
        }, 
        {
            "execution_count": 10, 
            "cell_type": "code", 
            "metadata": {
                "button": false, 
                "new_sheet": false, 
                "run_control": {
                    "read_only": false
                }
            }, 
            "outputs": [
                {
                    "output_type": "display_data", 
                    "data": {
                        "image/png": "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\n", 
                        "text/plain": "<matplotlib.figure.Figure at 0x7fa67bf5dcc0>"
                    }, 
                    "metadata": {}
                }
            ], 
            "source": "df['dayofweek'] = df['effective_date'].dt.dayofweek\nbins = np.linspace(df.dayofweek.min(), df.dayofweek.max(), 10)\ng = sns.FacetGrid(df, col=\"Gender\", hue=\"loan_status\", palette=\"Set1\", col_wrap=2)\ng.map(plt.hist, 'dayofweek', bins=bins, ec=\"k\")\ng.axes[-1].legend()\nplt.show()\n"
        }, 
        {
            "source": "We see that people who get the loan at the end of the week dont pay it off, so lets use Feature binarization to set a threshold values less then day 4 ", 
            "cell_type": "markdown", 
            "metadata": {
                "button": false, 
                "new_sheet": false, 
                "run_control": {
                    "read_only": false
                }
            }
        }, 
        {
            "execution_count": 11, 
            "cell_type": "code", 
            "metadata": {
                "button": false, 
                "new_sheet": false, 
                "run_control": {
                    "read_only": false
                }
            }, 
            "outputs": [
                {
                    "execution_count": 11, 
                    "metadata": {}, 
                    "data": {
                        "text/html": "<div>\n<style scoped>\n    .dataframe tbody tr th:only-of-type {\n        vertical-align: middle;\n    }\n\n    .dataframe tbody tr th {\n        vertical-align: top;\n    }\n\n    .dataframe thead th {\n        text-align: right;\n    }\n</style>\n<table border=\"1\" class=\"dataframe\">\n  <thead>\n    <tr style=\"text-align: right;\">\n      <th></th>\n      <th>Unnamed: 0</th>\n      <th>Unnamed: 0.1</th>\n      <th>loan_status</th>\n      <th>Principal</th>\n      <th>terms</th>\n      <th>effective_date</th>\n      <th>due_date</th>\n      <th>age</th>\n      <th>education</th>\n      <th>Gender</th>\n      <th>dayofweek</th>\n      <th>weekend</th>\n    </tr>\n  </thead>\n  <tbody>\n    <tr>\n      <th>0</th>\n      <td>0</td>\n      <td>0</td>\n      <td>PAIDOFF</td>\n      <td>1000</td>\n      <td>30</td>\n      <td>2016-09-08</td>\n      <td>2016-10-07</td>\n      <td>45</td>\n      <td>High School or Below</td>\n      <td>male</td>\n      <td>3</td>\n      <td>0</td>\n    </tr>\n    <tr>\n      <th>1</th>\n      <td>2</td>\n      <td>2</td>\n      <td>PAIDOFF</td>\n      <td>1000</td>\n      <td>30</td>\n      <td>2016-09-08</td>\n      <td>2016-10-07</td>\n      <td>33</td>\n      <td>Bechalor</td>\n      <td>female</td>\n      <td>3</td>\n      <td>0</td>\n    </tr>\n    <tr>\n      <th>2</th>\n      <td>3</td>\n      <td>3</td>\n      <td>PAIDOFF</td>\n      <td>1000</td>\n      <td>15</td>\n      <td>2016-09-08</td>\n      <td>2016-09-22</td>\n      <td>27</td>\n      <td>college</td>\n      <td>male</td>\n      <td>3</td>\n      <td>0</td>\n    </tr>\n    <tr>\n      <th>3</th>\n      <td>4</td>\n      <td>4</td>\n      <td>PAIDOFF</td>\n      <td>1000</td>\n      <td>30</td>\n      <td>2016-09-09</td>\n      <td>2016-10-08</td>\n      <td>28</td>\n      <td>college</td>\n      <td>female</td>\n      <td>4</td>\n      <td>1</td>\n    </tr>\n    <tr>\n      <th>4</th>\n      <td>6</td>\n      <td>6</td>\n      <td>PAIDOFF</td>\n      <td>1000</td>\n      <td>30</td>\n      <td>2016-09-09</td>\n      <td>2016-10-08</td>\n      <td>29</td>\n      <td>college</td>\n      <td>male</td>\n      <td>4</td>\n      <td>1</td>\n    </tr>\n  </tbody>\n</table>\n</div>", 
                        "text/plain": "   Unnamed: 0  Unnamed: 0.1 loan_status  Principal  terms effective_date  \\\n0           0             0     PAIDOFF       1000     30     2016-09-08   \n1           2             2     PAIDOFF       1000     30     2016-09-08   \n2           3             3     PAIDOFF       1000     15     2016-09-08   \n3           4             4     PAIDOFF       1000     30     2016-09-09   \n4           6             6     PAIDOFF       1000     30     2016-09-09   \n\n    due_date  age             education  Gender  dayofweek  weekend  \n0 2016-10-07   45  High School or Below    male          3        0  \n1 2016-10-07   33              Bechalor  female          3        0  \n2 2016-09-22   27               college    male          3        0  \n3 2016-10-08   28               college  female          4        1  \n4 2016-10-08   29               college    male          4        1  "
                    }, 
                    "output_type": "execute_result"
                }
            ], 
            "source": "df['weekend'] = df['dayofweek'].apply(lambda x: 1 if (x>3)  else 0)\ndf.head()"
        }, 
        {
            "source": "## Convert Categorical features to numerical values", 
            "cell_type": "markdown", 
            "metadata": {
                "button": false, 
                "new_sheet": false, 
                "run_control": {
                    "read_only": false
                }
            }
        }, 
        {
            "source": "Lets look at gender:", 
            "cell_type": "markdown", 
            "metadata": {
                "button": false, 
                "new_sheet": false, 
                "run_control": {
                    "read_only": false
                }
            }
        }, 
        {
            "execution_count": 12, 
            "cell_type": "code", 
            "metadata": {
                "button": false, 
                "new_sheet": false, 
                "run_control": {
                    "read_only": false
                }
            }, 
            "outputs": [
                {
                    "execution_count": 12, 
                    "metadata": {}, 
                    "data": {
                        "text/plain": "Gender  loan_status\nfemale  PAIDOFF        0.865385\n        COLLECTION     0.134615\nmale    PAIDOFF        0.731293\n        COLLECTION     0.268707\nName: loan_status, dtype: float64"
                    }, 
                    "output_type": "execute_result"
                }
            ], 
            "source": "df.groupby(['Gender'])['loan_status'].value_counts(normalize=True)"
        }, 
        {
            "source": "86 % of female pay there loans while only 73 % of males pay there loan\n", 
            "cell_type": "markdown", 
            "metadata": {
                "button": false, 
                "new_sheet": false, 
                "run_control": {
                    "read_only": false
                }
            }
        }, 
        {
            "source": "Lets convert male to 0 and female to 1:\n", 
            "cell_type": "markdown", 
            "metadata": {
                "button": false, 
                "new_sheet": false, 
                "run_control": {
                    "read_only": false
                }
            }
        }, 
        {
            "execution_count": 13, 
            "cell_type": "code", 
            "metadata": {
                "button": false, 
                "new_sheet": false, 
                "run_control": {
                    "read_only": false
                }
            }, 
            "outputs": [
                {
                    "execution_count": 13, 
                    "metadata": {}, 
                    "data": {
                        "text/html": "<div>\n<style scoped>\n    .dataframe tbody tr th:only-of-type {\n        vertical-align: middle;\n    }\n\n    .dataframe tbody tr th {\n        vertical-align: top;\n    }\n\n    .dataframe thead th {\n        text-align: right;\n    }\n</style>\n<table border=\"1\" class=\"dataframe\">\n  <thead>\n    <tr style=\"text-align: right;\">\n      <th></th>\n      <th>Unnamed: 0</th>\n      <th>Unnamed: 0.1</th>\n      <th>loan_status</th>\n      <th>Principal</th>\n      <th>terms</th>\n      <th>effective_date</th>\n      <th>due_date</th>\n      <th>age</th>\n      <th>education</th>\n      <th>Gender</th>\n      <th>dayofweek</th>\n      <th>weekend</th>\n    </tr>\n  </thead>\n  <tbody>\n    <tr>\n      <th>0</th>\n      <td>0</td>\n      <td>0</td>\n      <td>PAIDOFF</td>\n      <td>1000</td>\n      <td>30</td>\n      <td>2016-09-08</td>\n      <td>2016-10-07</td>\n      <td>45</td>\n      <td>High School or Below</td>\n      <td>0</td>\n      <td>3</td>\n      <td>0</td>\n    </tr>\n    <tr>\n      <th>1</th>\n      <td>2</td>\n      <td>2</td>\n      <td>PAIDOFF</td>\n      <td>1000</td>\n      <td>30</td>\n      <td>2016-09-08</td>\n      <td>2016-10-07</td>\n      <td>33</td>\n      <td>Bechalor</td>\n      <td>1</td>\n      <td>3</td>\n      <td>0</td>\n    </tr>\n    <tr>\n      <th>2</th>\n      <td>3</td>\n      <td>3</td>\n      <td>PAIDOFF</td>\n      <td>1000</td>\n      <td>15</td>\n      <td>2016-09-08</td>\n      <td>2016-09-22</td>\n      <td>27</td>\n      <td>college</td>\n      <td>0</td>\n      <td>3</td>\n      <td>0</td>\n    </tr>\n    <tr>\n      <th>3</th>\n      <td>4</td>\n      <td>4</td>\n      <td>PAIDOFF</td>\n      <td>1000</td>\n      <td>30</td>\n      <td>2016-09-09</td>\n      <td>2016-10-08</td>\n      <td>28</td>\n      <td>college</td>\n      <td>1</td>\n      <td>4</td>\n      <td>1</td>\n    </tr>\n    <tr>\n      <th>4</th>\n      <td>6</td>\n      <td>6</td>\n      <td>PAIDOFF</td>\n      <td>1000</td>\n      <td>30</td>\n      <td>2016-09-09</td>\n      <td>2016-10-08</td>\n      <td>29</td>\n      <td>college</td>\n      <td>0</td>\n      <td>4</td>\n      <td>1</td>\n    </tr>\n  </tbody>\n</table>\n</div>", 
                        "text/plain": "   Unnamed: 0  Unnamed: 0.1 loan_status  Principal  terms effective_date  \\\n0           0             0     PAIDOFF       1000     30     2016-09-08   \n1           2             2     PAIDOFF       1000     30     2016-09-08   \n2           3             3     PAIDOFF       1000     15     2016-09-08   \n3           4             4     PAIDOFF       1000     30     2016-09-09   \n4           6             6     PAIDOFF       1000     30     2016-09-09   \n\n    due_date  age             education  Gender  dayofweek  weekend  \n0 2016-10-07   45  High School or Below       0          3        0  \n1 2016-10-07   33              Bechalor       1          3        0  \n2 2016-09-22   27               college       0          3        0  \n3 2016-10-08   28               college       1          4        1  \n4 2016-10-08   29               college       0          4        1  "
                    }, 
                    "output_type": "execute_result"
                }
            ], 
            "source": "df['Gender'].replace(to_replace=['male','female'], value=[0,1],inplace=True)\ndf.head()"
        }, 
        {
            "source": "## One Hot Encoding  \n#### How about education?", 
            "cell_type": "markdown", 
            "metadata": {
                "button": false, 
                "new_sheet": false, 
                "run_control": {
                    "read_only": false
                }
            }
        }, 
        {
            "execution_count": 14, 
            "cell_type": "code", 
            "metadata": {
                "button": false, 
                "new_sheet": false, 
                "run_control": {
                    "read_only": false
                }
            }, 
            "outputs": [
                {
                    "execution_count": 14, 
                    "metadata": {}, 
                    "data": {
                        "text/plain": "education             loan_status\nBechalor              PAIDOFF        0.750000\n                      COLLECTION     0.250000\nHigh School or Below  PAIDOFF        0.741722\n                      COLLECTION     0.258278\nMaster or Above       COLLECTION     0.500000\n                      PAIDOFF        0.500000\ncollege               PAIDOFF        0.765101\n                      COLLECTION     0.234899\nName: loan_status, dtype: float64"
                    }, 
                    "output_type": "execute_result"
                }
            ], 
            "source": "df.groupby(['education'])['loan_status'].value_counts(normalize=True)"
        }, 
        {
            "source": "#### Feature befor One Hot Encoding", 
            "cell_type": "markdown", 
            "metadata": {
                "button": false, 
                "new_sheet": false, 
                "run_control": {
                    "read_only": false
                }
            }
        }, 
        {
            "execution_count": 15, 
            "cell_type": "code", 
            "metadata": {
                "button": false, 
                "new_sheet": false, 
                "run_control": {
                    "read_only": false
                }
            }, 
            "outputs": [
                {
                    "execution_count": 15, 
                    "metadata": {}, 
                    "data": {
                        "text/html": "<div>\n<style scoped>\n    .dataframe tbody tr th:only-of-type {\n        vertical-align: middle;\n    }\n\n    .dataframe tbody tr th {\n        vertical-align: top;\n    }\n\n    .dataframe thead th {\n        text-align: right;\n    }\n</style>\n<table border=\"1\" class=\"dataframe\">\n  <thead>\n    <tr style=\"text-align: right;\">\n      <th></th>\n      <th>Principal</th>\n      <th>terms</th>\n      <th>age</th>\n      <th>Gender</th>\n      <th>education</th>\n    </tr>\n  </thead>\n  <tbody>\n    <tr>\n      <th>0</th>\n      <td>1000</td>\n      <td>30</td>\n      <td>45</td>\n      <td>0</td>\n      <td>High School or Below</td>\n    </tr>\n    <tr>\n      <th>1</th>\n      <td>1000</td>\n      <td>30</td>\n      <td>33</td>\n      <td>1</td>\n      <td>Bechalor</td>\n    </tr>\n    <tr>\n      <th>2</th>\n      <td>1000</td>\n      <td>15</td>\n      <td>27</td>\n      <td>0</td>\n      <td>college</td>\n    </tr>\n    <tr>\n      <th>3</th>\n      <td>1000</td>\n      <td>30</td>\n      <td>28</td>\n      <td>1</td>\n      <td>college</td>\n    </tr>\n    <tr>\n      <th>4</th>\n      <td>1000</td>\n      <td>30</td>\n      <td>29</td>\n      <td>0</td>\n      <td>college</td>\n    </tr>\n  </tbody>\n</table>\n</div>", 
                        "text/plain": "   Principal  terms  age  Gender             education\n0       1000     30   45       0  High School or Below\n1       1000     30   33       1              Bechalor\n2       1000     15   27       0               college\n3       1000     30   28       1               college\n4       1000     30   29       0               college"
                    }, 
                    "output_type": "execute_result"
                }
            ], 
            "source": "df[['Principal','terms','age','Gender','education']].head()"
        }, 
        {
            "source": "#### Use one hot encoding technique to conver categorical varables to binary variables and append them to the feature Data Frame ", 
            "cell_type": "markdown", 
            "metadata": {
                "button": false, 
                "new_sheet": false, 
                "run_control": {
                    "read_only": false
                }
            }
        }, 
        {
            "execution_count": 16, 
            "cell_type": "code", 
            "metadata": {
                "button": false, 
                "new_sheet": false, 
                "run_control": {
                    "read_only": false
                }
            }, 
            "outputs": [
                {
                    "execution_count": 16, 
                    "metadata": {}, 
                    "data": {
                        "text/html": "<div>\n<style scoped>\n    .dataframe tbody tr th:only-of-type {\n        vertical-align: middle;\n    }\n\n    .dataframe tbody tr th {\n        vertical-align: top;\n    }\n\n    .dataframe thead th {\n        text-align: right;\n    }\n</style>\n<table border=\"1\" class=\"dataframe\">\n  <thead>\n    <tr style=\"text-align: right;\">\n      <th></th>\n      <th>Principal</th>\n      <th>terms</th>\n      <th>age</th>\n      <th>Gender</th>\n      <th>weekend</th>\n      <th>Bechalor</th>\n      <th>High School or Below</th>\n      <th>college</th>\n    </tr>\n  </thead>\n  <tbody>\n    <tr>\n      <th>0</th>\n      <td>1000</td>\n      <td>30</td>\n      <td>45</td>\n      <td>0</td>\n      <td>0</td>\n      <td>0</td>\n      <td>1</td>\n      <td>0</td>\n    </tr>\n    <tr>\n      <th>1</th>\n      <td>1000</td>\n      <td>30</td>\n      <td>33</td>\n      <td>1</td>\n      <td>0</td>\n      <td>1</td>\n      <td>0</td>\n      <td>0</td>\n    </tr>\n    <tr>\n      <th>2</th>\n      <td>1000</td>\n      <td>15</td>\n      <td>27</td>\n      <td>0</td>\n      <td>0</td>\n      <td>0</td>\n      <td>0</td>\n      <td>1</td>\n    </tr>\n    <tr>\n      <th>3</th>\n      <td>1000</td>\n      <td>30</td>\n      <td>28</td>\n      <td>1</td>\n      <td>1</td>\n      <td>0</td>\n      <td>0</td>\n      <td>1</td>\n    </tr>\n    <tr>\n      <th>4</th>\n      <td>1000</td>\n      <td>30</td>\n      <td>29</td>\n      <td>0</td>\n      <td>1</td>\n      <td>0</td>\n      <td>0</td>\n      <td>1</td>\n    </tr>\n  </tbody>\n</table>\n</div>", 
                        "text/plain": "   Principal  terms  age  Gender  weekend  Bechalor  High School or Below  \\\n0       1000     30   45       0        0         0                     1   \n1       1000     30   33       1        0         1                     0   \n2       1000     15   27       0        0         0                     0   \n3       1000     30   28       1        1         0                     0   \n4       1000     30   29       0        1         0                     0   \n\n   college  \n0        0  \n1        0  \n2        1  \n3        1  \n4        1  "
                    }, 
                    "output_type": "execute_result"
                }
            ], 
            "source": "Feature = df[['Principal','terms','age','Gender','weekend']]\nFeature = pd.concat([Feature,pd.get_dummies(df['education'])], axis=1)\nFeature.drop(['Master or Above'], axis = 1,inplace=True)\nFeature.head()\n"
        }, 
        {
            "source": "### Feature selection", 
            "cell_type": "markdown", 
            "metadata": {
                "button": false, 
                "new_sheet": false, 
                "run_control": {
                    "read_only": false
                }
            }
        }, 
        {
            "source": "Lets defind feature sets, X:", 
            "cell_type": "markdown", 
            "metadata": {
                "button": false, 
                "new_sheet": false, 
                "run_control": {
                    "read_only": false
                }
            }
        }, 
        {
            "execution_count": 17, 
            "cell_type": "code", 
            "metadata": {
                "button": false, 
                "new_sheet": false, 
                "run_control": {
                    "read_only": false
                }
            }, 
            "outputs": [
                {
                    "execution_count": 17, 
                    "metadata": {}, 
                    "data": {
                        "text/html": "<div>\n<style scoped>\n    .dataframe tbody tr th:only-of-type {\n        vertical-align: middle;\n    }\n\n    .dataframe tbody tr th {\n        vertical-align: top;\n    }\n\n    .dataframe thead th {\n        text-align: right;\n    }\n</style>\n<table border=\"1\" class=\"dataframe\">\n  <thead>\n    <tr style=\"text-align: right;\">\n      <th></th>\n      <th>Principal</th>\n      <th>terms</th>\n      <th>age</th>\n      <th>Gender</th>\n      <th>weekend</th>\n      <th>Bechalor</th>\n      <th>High School or Below</th>\n      <th>college</th>\n    </tr>\n  </thead>\n  <tbody>\n    <tr>\n      <th>0</th>\n      <td>1000</td>\n      <td>30</td>\n      <td>45</td>\n      <td>0</td>\n      <td>0</td>\n      <td>0</td>\n      <td>1</td>\n      <td>0</td>\n    </tr>\n    <tr>\n      <th>1</th>\n      <td>1000</td>\n      <td>30</td>\n      <td>33</td>\n      <td>1</td>\n      <td>0</td>\n      <td>1</td>\n      <td>0</td>\n      <td>0</td>\n    </tr>\n    <tr>\n      <th>2</th>\n      <td>1000</td>\n      <td>15</td>\n      <td>27</td>\n      <td>0</td>\n      <td>0</td>\n      <td>0</td>\n      <td>0</td>\n      <td>1</td>\n    </tr>\n    <tr>\n      <th>3</th>\n      <td>1000</td>\n      <td>30</td>\n      <td>28</td>\n      <td>1</td>\n      <td>1</td>\n      <td>0</td>\n      <td>0</td>\n      <td>1</td>\n    </tr>\n    <tr>\n      <th>4</th>\n      <td>1000</td>\n      <td>30</td>\n      <td>29</td>\n      <td>0</td>\n      <td>1</td>\n      <td>0</td>\n      <td>0</td>\n      <td>1</td>\n    </tr>\n  </tbody>\n</table>\n</div>", 
                        "text/plain": "   Principal  terms  age  Gender  weekend  Bechalor  High School or Below  \\\n0       1000     30   45       0        0         0                     1   \n1       1000     30   33       1        0         1                     0   \n2       1000     15   27       0        0         0                     0   \n3       1000     30   28       1        1         0                     0   \n4       1000     30   29       0        1         0                     0   \n\n   college  \n0        0  \n1        0  \n2        1  \n3        1  \n4        1  "
                    }, 
                    "output_type": "execute_result"
                }
            ], 
            "source": "X = Feature\nX[0:5]"
        }, 
        {
            "source": "What are our lables?", 
            "cell_type": "markdown", 
            "metadata": {
                "button": false, 
                "new_sheet": false, 
                "run_control": {
                    "read_only": false
                }
            }
        }, 
        {
            "execution_count": 18, 
            "cell_type": "code", 
            "metadata": {
                "button": false, 
                "new_sheet": false, 
                "run_control": {
                    "read_only": false
                }
            }, 
            "outputs": [
                {
                    "execution_count": 18, 
                    "metadata": {}, 
                    "data": {
                        "text/plain": "array(['PAIDOFF', 'PAIDOFF', 'PAIDOFF', 'PAIDOFF', 'PAIDOFF'], dtype=object)"
                    }, 
                    "output_type": "execute_result"
                }
            ], 
            "source": "y = df['loan_status'].values\ny[0:5]"
        }, 
        {
            "source": "## Normalize Data ", 
            "cell_type": "markdown", 
            "metadata": {
                "button": false, 
                "new_sheet": false, 
                "run_control": {
                    "read_only": false
                }
            }
        }, 
        {
            "source": "Data Standardization give data zero mean and unit variance (technically should be done after train test split )", 
            "cell_type": "markdown", 
            "metadata": {
                "button": false, 
                "new_sheet": false, 
                "run_control": {
                    "read_only": false
                }
            }
        }, 
        {
            "execution_count": 19, 
            "cell_type": "code", 
            "metadata": {
                "button": false, 
                "new_sheet": false, 
                "run_control": {
                    "read_only": false
                }
            }, 
            "outputs": [
                {
                    "execution_count": 19, 
                    "metadata": {}, 
                    "data": {
                        "text/plain": "array([[ 0.51578458,  0.92071769,  2.33152555, -0.42056004, -1.20577805,\n        -0.38170062,  1.13639374, -0.86968108],\n       [ 0.51578458,  0.92071769,  0.34170148,  2.37778177, -1.20577805,\n         2.61985426, -0.87997669, -0.86968108],\n       [ 0.51578458, -0.95911111, -0.65321055, -0.42056004, -1.20577805,\n        -0.38170062, -0.87997669,  1.14984679],\n       [ 0.51578458,  0.92071769, -0.48739188,  2.37778177,  0.82934003,\n        -0.38170062, -0.87997669,  1.14984679],\n       [ 0.51578458,  0.92071769, -0.3215732 , -0.42056004,  0.82934003,\n        -0.38170062, -0.87997669,  1.14984679]])"
                    }, 
                    "output_type": "execute_result"
                }
            ], 
            "source": "X= preprocessing.StandardScaler().fit(X).transform(X)\nX[0:5]"
        }, 
        {
            "source": "# Classification ", 
            "cell_type": "markdown", 
            "metadata": {
                "button": false, 
                "new_sheet": false, 
                "run_control": {
                    "read_only": false
                }
            }
        }, 
        {
            "source": "Now, it is your turn, use the training set to build an accurate model. Then use the test set to report the accuracy of the model\nYou should use the following algorithm:\n- K Nearest Neighbor(KNN)\n- Decision Tree\n- Support Vector Machine\n- Logistic Regression\n\n\n\n__ Notice:__ \n- You can go above and change the pre-processing, feature selection, feature-extraction, and so on, to make a better model.\n- You should use either scikit-learn, Scipy or Numpy libraries for developing the classification algorithms.\n- You should include the code of the algorithm in the following cells.", 
            "cell_type": "markdown", 
            "metadata": {
                "button": false, 
                "new_sheet": false, 
                "run_control": {
                    "read_only": false
                }
            }
        }, 
        {
            "source": "# K Nearest Neighbor(KNN)\nNotice: You should find the best k to build the model with the best accuracy.  \n**warning:** You should not use the __loan_test.csv__ for finding the best k, however, you can split your train_loan.csv into train and test to find the best __k__.", 
            "cell_type": "markdown", 
            "metadata": {}
        }, 
        {
            "execution_count": 20, 
            "cell_type": "code", 
            "metadata": {}, 
            "outputs": [
                {
                    "output_type": "stream", 
                    "name": "stdout", 
                    "text": "Train set: (276, 8) (276,)\nTest set: (70, 8) (70,)\n"
                }
            ], 
            "source": "from sklearn.model_selection import train_test_split\nfrom sklearn.neighbors import KNeighborsClassifier\nfrom sklearn import metrics\n\nX_train, X_test, y_train, y_test = train_test_split(X, y, test_size=0.2, random_state=4)\nprint ('Train set:', X_train.shape,  y_train.shape)\nprint ('Test set:', X_test.shape,  y_test.shape)"
        }, 
        {
            "execution_count": 21, 
            "cell_type": "code", 
            "metadata": {}, 
            "outputs": [
                {
                    "execution_count": 21, 
                    "metadata": {}, 
                    "data": {
                        "text/plain": "array([ 0.67142857,  0.65714286,  0.71428571,  0.68571429,  0.75714286,\n        0.71428571,  0.78571429,  0.75714286,  0.75714286,  0.67142857,\n        0.7       ,  0.72857143,  0.7       ,  0.7       ])"
                    }, 
                    "output_type": "execute_result"
                }
            ], 
            "source": "Ks = 15\nmean_acc = np.zeros((Ks-1))\nstd_acc = np.zeros((Ks-1))\nConfustionMx = [];\nfor n in range(1,Ks):\n    \n    #Train Model and Predict  \n    neigh = KNeighborsClassifier(n_neighbors = n).fit(X_train,y_train)\n    yhat=neigh.predict(X_test)\n    mean_acc[n-1] = metrics.accuracy_score(y_test, yhat)\n\n    \n    std_acc[n-1]=np.std(yhat==y_test)/np.sqrt(yhat.shape[0])\n\nmean_acc"
        }, 
        {
            "execution_count": 22, 
            "cell_type": "code", 
            "metadata": {}, 
            "outputs": [
                {
                    "output_type": "display_data", 
                    "data": {
                        "image/png": "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\n", 
                        "text/plain": "<matplotlib.figure.Figure at 0x7fa67c0cf208>"
                    }, 
                    "metadata": {}
                }
            ], 
            "source": "plt.plot(range(1,Ks),mean_acc,'g')\nplt.fill_between(range(1,Ks),mean_acc - 1 * std_acc,mean_acc + 1 * std_acc, alpha=0.10)\nplt.legend(('Accuracy ', '+/- 3xstd'))\nplt.ylabel('Accuracy ')\nplt.xlabel('Number of Nabors (K)')\nplt.tight_layout()\nplt.show()"
        }, 
        {
            "execution_count": 23, 
            "cell_type": "code", 
            "metadata": {}, 
            "outputs": [
                {
                    "output_type": "stream", 
                    "name": "stdout", 
                    "text": "The best accuracy was with 0.785714285714 with k= 7\n"
                }
            ], 
            "source": "print( \"The best accuracy was with\", mean_acc.max(), \"with k=\", mean_acc.argmax()+1)"
        }, 
        {
            "execution_count": 24, 
            "cell_type": "code", 
            "metadata": {}, 
            "outputs": [
                {
                    "output_type": "stream", 
                    "name": "stdout", 
                    "text": "Train set Accuracy:  0.807971014493\nTest set Accuracy:  0.785714285714\n"
                }
            ], 
            "source": "k = 7\n\n#Train Model and Predict  \nneigh = KNeighborsClassifier(n_neighbors = k).fit(X_train,y_train)\nneigh\n\nyhat_KNN = neigh.predict(X_test)\nyhat_KNN[0:5]\n\nprint(\"Train set Accuracy: \", metrics.accuracy_score(y_train, neigh.predict(X_train)))\nprint(\"Test set Accuracy: \", metrics.accuracy_score(y_test, yhat_KNN))"
        }, 
        {
            "source": "# Decision Tree", 
            "cell_type": "markdown", 
            "metadata": {}
        }, 
        {
            "execution_count": 25, 
            "cell_type": "code", 
            "metadata": {}, 
            "outputs": [], 
            "source": "from sklearn.tree import DecisionTreeClassifier"
        }, 
        {
            "execution_count": 26, 
            "cell_type": "code", 
            "metadata": {}, 
            "outputs": [
                {
                    "output_type": "display_data", 
                    "data": {
                        "image/png": "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\n", 
                        "text/plain": "<matplotlib.figure.Figure at 0x7fa67c028b38>"
                    }, 
                    "metadata": {}
                }
            ], 
            "source": "Ks = 30\nmean_acc = np.zeros((Ks-1))\nstd_acc = np.zeros((Ks-1))\nConfustionMx = [];\nfor n in range(1,Ks):\n    \n    #Train Model and Predict  \n    decTree = DecisionTreeClassifier(criterion = \"entropy\", max_depth = n).fit(X_train,y_train)\n    yhat=decTree.predict(X_test)\n    mean_acc[n-1] = metrics.accuracy_score(y_test, yhat)\n    std_acc[n-1]=np.std(yhat==y_test)/np.sqrt(yhat.shape[0])\n\nmean_acc\n\nplt.plot(range(1,Ks),mean_acc,'g')\nplt.fill_between(range(1,Ks),mean_acc - 1 * std_acc,mean_acc + 1 * std_acc, alpha=0.10)\nplt.legend(('Accuracy ', '+/- 3xstd'))\nplt.ylabel('Accuracy ')\nplt.xlabel('Max Tree Depth (n)')\nplt.tight_layout()\nplt.show()"
        }, 
        {
            "execution_count": 27, 
            "cell_type": "code", 
            "metadata": {}, 
            "outputs": [
                {
                    "execution_count": 27, 
                    "metadata": {}, 
                    "data": {
                        "text/plain": "array([ 0.78571429,  0.78571429,  0.61428571,  0.61428571,  0.64285714,\n        0.77142857,  0.75714286,  0.75714286,  0.65714286,  0.7       ,\n        0.7       ,  0.7       ,  0.71428571,  0.71428571,  0.74285714,\n        0.7       ,  0.68571429,  0.68571429,  0.68571429,  0.7       ,\n        0.7       ,  0.68571429,  0.7       ,  0.7       ,  0.7       ,\n        0.7       ,  0.68571429,  0.68571429,  0.7       ])"
                    }, 
                    "output_type": "execute_result"
                }
            ], 
            "source": "mean_acc"
        }, 
        {
            "execution_count": 28, 
            "cell_type": "code", 
            "metadata": {}, 
            "outputs": [
                {
                    "output_type": "stream", 
                    "name": "stdout", 
                    "text": "DecisionTrees's Accuracy:  0.785714285714\n"
                }
            ], 
            "source": "decTree = DecisionTreeClassifier(criterion=\"entropy\", max_depth = 2)\n\ndecTree.fit(X_train,y_train)\npredTree = decTree.predict(X_test)\nprint(\"DecisionTrees's Accuracy: \", metrics.accuracy_score(y_test, predTree))"
        }, 
        {
            "source": "# Support Vector Machine", 
            "cell_type": "markdown", 
            "metadata": {}
        }, 
        {
            "execution_count": 29, 
            "cell_type": "code", 
            "metadata": {}, 
            "outputs": [], 
            "source": "from sklearn import svm\nfrom sklearn.metrics import classification_report, confusion_matrix\nimport itertools"
        }, 
        {
            "execution_count": 30, 
            "cell_type": "code", 
            "metadata": {}, 
            "outputs": [
                {
                    "execution_count": 30, 
                    "metadata": {}, 
                    "data": {
                        "text/plain": "array(['COLLECTION', 'PAIDOFF', 'PAIDOFF', 'PAIDOFF', 'PAIDOFF'], dtype=object)"
                    }, 
                    "output_type": "execute_result"
                }
            ], 
            "source": "clf = svm.SVC(kernel='rbf')\nclf.fit(X_train, y_train)\nyhat_SVM = clf.predict(X_test)\nyhat_SVM [0:5]"
        }, 
        {
            "execution_count": 31, 
            "cell_type": "code", 
            "metadata": {}, 
            "outputs": [
                {
                    "output_type": "stream", 
                    "name": "stdout", 
                    "text": "             precision    recall  f1-score   support\n\n COLLECTION       0.36      0.27      0.31        15\n    PAIDOFF       0.81      0.87      0.84        55\n\navg / total       0.72      0.74      0.73        70\n\n"
                }
            ], 
            "source": "print (classification_report(y_test, yhat_SVM))"
        }, 
        {
            "source": "# Logistic Regression", 
            "cell_type": "markdown", 
            "metadata": {}
        }, 
        {
            "execution_count": 32, 
            "cell_type": "code", 
            "metadata": {}, 
            "outputs": [
                {
                    "execution_count": 32, 
                    "metadata": {}, 
                    "data": {
                        "text/plain": "LogisticRegression(C=0.01, class_weight=None, dual=False, fit_intercept=True,\n          intercept_scaling=1, max_iter=100, multi_class='ovr', n_jobs=1,\n          penalty='l2', random_state=None, solver='liblinear', tol=0.0001,\n          verbose=0, warm_start=False)"
                    }, 
                    "output_type": "execute_result"
                }
            ], 
            "source": "from sklearn.linear_model import LogisticRegression\nLR = LogisticRegression(C=0.01, solver='liblinear').fit(X_train,y_train)\nLR\n"
        }, 
        {
            "execution_count": 33, 
            "cell_type": "code", 
            "metadata": {}, 
            "outputs": [
                {
                    "execution_count": 33, 
                    "metadata": {}, 
                    "data": {
                        "text/plain": "array(['COLLECTION', 'PAIDOFF', 'PAIDOFF', 'PAIDOFF', 'PAIDOFF', 'PAIDOFF',\n       'PAIDOFF', 'PAIDOFF', 'PAIDOFF', 'PAIDOFF', 'PAIDOFF', 'PAIDOFF',\n       'PAIDOFF', 'PAIDOFF', 'PAIDOFF', 'PAIDOFF', 'COLLECTION', 'PAIDOFF',\n       'COLLECTION', 'PAIDOFF', 'PAIDOFF', 'PAIDOFF', 'COLLECTION',\n       'PAIDOFF', 'PAIDOFF', 'COLLECTION', 'COLLECTION', 'PAIDOFF',\n       'COLLECTION', 'PAIDOFF', 'PAIDOFF', 'PAIDOFF', 'PAIDOFF', 'PAIDOFF',\n       'PAIDOFF', 'PAIDOFF', 'COLLECTION', 'PAIDOFF', 'PAIDOFF', 'PAIDOFF',\n       'COLLECTION', 'PAIDOFF', 'PAIDOFF', 'COLLECTION', 'PAIDOFF',\n       'PAIDOFF', 'PAIDOFF', 'PAIDOFF', 'PAIDOFF', 'PAIDOFF', 'PAIDOFF',\n       'PAIDOFF', 'PAIDOFF', 'PAIDOFF', 'PAIDOFF', 'PAIDOFF', 'PAIDOFF',\n       'PAIDOFF', 'PAIDOFF', 'PAIDOFF', 'PAIDOFF', 'PAIDOFF', 'PAIDOFF',\n       'COLLECTION', 'PAIDOFF', 'PAIDOFF', 'PAIDOFF', 'PAIDOFF', 'PAIDOFF',\n       'PAIDOFF'], dtype=object)"
                    }, 
                    "output_type": "execute_result"
                }
            ], 
            "source": "yhat_LR = LR.predict(X_test)\nyhat_LR"
        }, 
        {
            "execution_count": 34, 
            "cell_type": "code", 
            "metadata": {}, 
            "outputs": [
                {
                    "output_type": "stream", 
                    "name": "stdout", 
                    "text": "             precision    recall  f1-score   support\n\n COLLECTION       0.18      0.13      0.15        15\n    PAIDOFF       0.78      0.84      0.81        55\n\navg / total       0.65      0.69      0.67        70\n\n"
                }
            ], 
            "source": "print (classification_report(y_test, yhat_LR))"
        }, 
        {
            "execution_count": 35, 
            "cell_type": "code", 
            "metadata": {}, 
            "outputs": [
                {
                    "output_type": "stream", 
                    "name": "stdout", 
                    "text": "Log loss for this logistic regression is:  0.577228760948\n"
                }
            ], 
            "source": "from sklearn.metrics import log_loss\nyhat_prob_LR = LR.predict_proba(X_test)\nprint('Log loss for this logistic regression is: ', log_loss(y_test, yhat_prob_LR))"
        }, 
        {
            "source": "# Model Evaluation using Test set", 
            "cell_type": "markdown", 
            "metadata": {}
        }, 
        {
            "execution_count": 36, 
            "cell_type": "code", 
            "metadata": {}, 
            "outputs": [], 
            "source": "from sklearn.metrics import jaccard_similarity_score\nfrom sklearn.metrics import f1_score\nfrom sklearn.metrics import log_loss"
        }, 
        {
            "source": "First, download and load the test set:", 
            "cell_type": "markdown", 
            "metadata": {}
        }, 
        {
            "execution_count": 37, 
            "cell_type": "code", 
            "metadata": {}, 
            "outputs": [
                {
                    "output_type": "stream", 
                    "name": "stdout", 
                    "text": "--2019-05-11 12:33:00--  https://s3-api.us-geo.objectstorage.softlayer.net/cf-courses-data/CognitiveClass/ML0101ENv3/labs/loan_test.csv\nResolving s3-api.us-geo.objectstorage.softlayer.net (s3-api.us-geo.objectstorage.softlayer.net)... 67.228.254.193\nConnecting to s3-api.us-geo.objectstorage.softlayer.net (s3-api.us-geo.objectstorage.softlayer.net)|67.228.254.193|:443... connected.\nHTTP request sent, awaiting response... 200 OK\nLength: 3642 (3.6K) [text/csv]\nSaving to: \u2018loan_test.csv\u2019\n\n100%[======================================>] 3,642       --.-K/s   in 0s      \n\n2019-05-11 12:33:00 (442 MB/s) - \u2018loan_test.csv\u2019 saved [3642/3642]\n\n"
                }
            ], 
            "source": "!wget -O loan_test.csv https://s3-api.us-geo.objectstorage.softlayer.net/cf-courses-data/CognitiveClass/ML0101ENv3/labs/loan_test.csv"
        }, 
        {
            "source": "### Load Test set for evaluation ", 
            "cell_type": "markdown", 
            "metadata": {
                "button": false, 
                "new_sheet": false, 
                "run_control": {
                    "read_only": false
                }
            }
        }, 
        {
            "execution_count": 38, 
            "cell_type": "code", 
            "metadata": {
                "button": false, 
                "new_sheet": false, 
                "run_control": {
                    "read_only": false
                }
            }, 
            "outputs": [
                {
                    "execution_count": 38, 
                    "metadata": {}, 
                    "data": {
                        "text/html": "<div>\n<style scoped>\n    .dataframe tbody tr th:only-of-type {\n        vertical-align: middle;\n    }\n\n    .dataframe tbody tr th {\n        vertical-align: top;\n    }\n\n    .dataframe thead th {\n        text-align: right;\n    }\n</style>\n<table border=\"1\" class=\"dataframe\">\n  <thead>\n    <tr style=\"text-align: right;\">\n      <th></th>\n      <th>Unnamed: 0</th>\n      <th>Unnamed: 0.1</th>\n      <th>loan_status</th>\n      <th>Principal</th>\n      <th>terms</th>\n      <th>effective_date</th>\n      <th>due_date</th>\n      <th>age</th>\n      <th>education</th>\n      <th>Gender</th>\n    </tr>\n  </thead>\n  <tbody>\n    <tr>\n      <th>0</th>\n      <td>1</td>\n      <td>1</td>\n      <td>PAIDOFF</td>\n      <td>1000</td>\n      <td>30</td>\n      <td>9/8/2016</td>\n      <td>10/7/2016</td>\n      <td>50</td>\n      <td>Bechalor</td>\n      <td>female</td>\n    </tr>\n    <tr>\n      <th>1</th>\n      <td>5</td>\n      <td>5</td>\n      <td>PAIDOFF</td>\n      <td>300</td>\n      <td>7</td>\n      <td>9/9/2016</td>\n      <td>9/15/2016</td>\n      <td>35</td>\n      <td>Master or Above</td>\n      <td>male</td>\n    </tr>\n    <tr>\n      <th>2</th>\n      <td>21</td>\n      <td>21</td>\n      <td>PAIDOFF</td>\n      <td>1000</td>\n      <td>30</td>\n      <td>9/10/2016</td>\n      <td>10/9/2016</td>\n      <td>43</td>\n      <td>High School or Below</td>\n      <td>female</td>\n    </tr>\n    <tr>\n      <th>3</th>\n      <td>24</td>\n      <td>24</td>\n      <td>PAIDOFF</td>\n      <td>1000</td>\n      <td>30</td>\n      <td>9/10/2016</td>\n      <td>10/9/2016</td>\n      <td>26</td>\n      <td>college</td>\n      <td>male</td>\n    </tr>\n    <tr>\n      <th>4</th>\n      <td>35</td>\n      <td>35</td>\n      <td>PAIDOFF</td>\n      <td>800</td>\n      <td>15</td>\n      <td>9/11/2016</td>\n      <td>9/25/2016</td>\n      <td>29</td>\n      <td>Bechalor</td>\n      <td>male</td>\n    </tr>\n  </tbody>\n</table>\n</div>", 
                        "text/plain": "   Unnamed: 0  Unnamed: 0.1 loan_status  Principal  terms effective_date  \\\n0           1             1     PAIDOFF       1000     30       9/8/2016   \n1           5             5     PAIDOFF        300      7       9/9/2016   \n2          21            21     PAIDOFF       1000     30      9/10/2016   \n3          24            24     PAIDOFF       1000     30      9/10/2016   \n4          35            35     PAIDOFF        800     15      9/11/2016   \n\n    due_date  age             education  Gender  \n0  10/7/2016   50              Bechalor  female  \n1  9/15/2016   35       Master or Above    male  \n2  10/9/2016   43  High School or Below  female  \n3  10/9/2016   26               college    male  \n4  9/25/2016   29              Bechalor    male  "
                    }, 
                    "output_type": "execute_result"
                }
            ], 
            "source": "test_df = pd.read_csv('loan_test.csv')\ntest_df.head()"
        }, 
        {
            "execution_count": 39, 
            "cell_type": "code", 
            "metadata": {}, 
            "outputs": [
                {
                    "execution_count": 39, 
                    "metadata": {}, 
                    "data": {
                        "text/html": "<div>\n<style scoped>\n    .dataframe tbody tr th:only-of-type {\n        vertical-align: middle;\n    }\n\n    .dataframe tbody tr th {\n        vertical-align: top;\n    }\n\n    .dataframe thead th {\n        text-align: right;\n    }\n</style>\n<table border=\"1\" class=\"dataframe\">\n  <thead>\n    <tr style=\"text-align: right;\">\n      <th></th>\n      <th>Unnamed: 0</th>\n      <th>Unnamed: 0.1</th>\n      <th>loan_status</th>\n      <th>Principal</th>\n      <th>terms</th>\n      <th>effective_date</th>\n      <th>due_date</th>\n      <th>age</th>\n      <th>education</th>\n      <th>Gender</th>\n      <th>dayofweek</th>\n      <th>weekend</th>\n    </tr>\n  </thead>\n  <tbody>\n    <tr>\n      <th>0</th>\n      <td>1</td>\n      <td>1</td>\n      <td>PAIDOFF</td>\n      <td>1000</td>\n      <td>30</td>\n      <td>2016-09-08</td>\n      <td>2016-10-07</td>\n      <td>50</td>\n      <td>Bechalor</td>\n      <td>1</td>\n      <td>3</td>\n      <td>0</td>\n    </tr>\n    <tr>\n      <th>1</th>\n      <td>5</td>\n      <td>5</td>\n      <td>PAIDOFF</td>\n      <td>300</td>\n      <td>7</td>\n      <td>2016-09-09</td>\n      <td>2016-09-15</td>\n      <td>35</td>\n      <td>Master or Above</td>\n      <td>0</td>\n      <td>4</td>\n      <td>1</td>\n    </tr>\n    <tr>\n      <th>2</th>\n      <td>21</td>\n      <td>21</td>\n      <td>PAIDOFF</td>\n      <td>1000</td>\n      <td>30</td>\n      <td>2016-09-10</td>\n      <td>2016-10-09</td>\n      <td>43</td>\n      <td>High School or Below</td>\n      <td>1</td>\n      <td>5</td>\n      <td>1</td>\n    </tr>\n    <tr>\n      <th>3</th>\n      <td>24</td>\n      <td>24</td>\n      <td>PAIDOFF</td>\n      <td>1000</td>\n      <td>30</td>\n      <td>2016-09-10</td>\n      <td>2016-10-09</td>\n      <td>26</td>\n      <td>college</td>\n      <td>0</td>\n      <td>5</td>\n      <td>1</td>\n    </tr>\n    <tr>\n      <th>4</th>\n      <td>35</td>\n      <td>35</td>\n      <td>PAIDOFF</td>\n      <td>800</td>\n      <td>15</td>\n      <td>2016-09-11</td>\n      <td>2016-09-25</td>\n      <td>29</td>\n      <td>Bechalor</td>\n      <td>0</td>\n      <td>6</td>\n      <td>1</td>\n    </tr>\n  </tbody>\n</table>\n</div>", 
                        "text/plain": "   Unnamed: 0  Unnamed: 0.1 loan_status  Principal  terms effective_date  \\\n0           1             1     PAIDOFF       1000     30     2016-09-08   \n1           5             5     PAIDOFF        300      7     2016-09-09   \n2          21            21     PAIDOFF       1000     30     2016-09-10   \n3          24            24     PAIDOFF       1000     30     2016-09-10   \n4          35            35     PAIDOFF        800     15     2016-09-11   \n\n    due_date  age             education  Gender  dayofweek  weekend  \n0 2016-10-07   50              Bechalor       1          3        0  \n1 2016-09-15   35       Master or Above       0          4        1  \n2 2016-10-09   43  High School or Below       1          5        1  \n3 2016-10-09   26               college       0          5        1  \n4 2016-09-25   29              Bechalor       0          6        1  "
                    }, 
                    "output_type": "execute_result"
                }
            ], 
            "source": "test_df['due_date'] = pd.to_datetime(test_df['due_date'])\ntest_df['effective_date'] = pd.to_datetime(test_df['effective_date'])\ntest_df['dayofweek'] = test_df['effective_date'].dt.dayofweek\ntest_df['weekend'] = test_df['dayofweek'].apply(lambda x: 1 if (x>3)  else 0)\ntest_df.groupby(['Gender'])['loan_status'].value_counts(normalize=True)\ntest_df['Gender'].replace(to_replace=['male','female'], value=[0,1],inplace=True)\ntest_df.groupby(['education'])['loan_status'].value_counts(normalize=True)\nFeature = test_df[['Principal','terms','age','Gender','weekend']]\nFeature = pd.concat([Feature,pd.get_dummies(test_df['education'])], axis=1)\nFeature.drop(['Master or Above'], axis = 1,inplace=True)\nX_test = Feature\nX_test= preprocessing.StandardScaler().fit(X_test).transform(X_test)\n\ny_test = test_df['loan_status'].values\n\ntest_df.head()"
        }, 
        {
            "execution_count": 40, 
            "cell_type": "code", 
            "metadata": {}, 
            "outputs": [
                {
                    "execution_count": 40, 
                    "metadata": {}, 
                    "data": {
                        "text/html": "<div>\n<style scoped>\n    .dataframe tbody tr th:only-of-type {\n        vertical-align: middle;\n    }\n\n    .dataframe tbody tr th {\n        vertical-align: top;\n    }\n\n    .dataframe thead th {\n        text-align: right;\n    }\n</style>\n<table border=\"1\" class=\"dataframe\">\n  <thead>\n    <tr style=\"text-align: right;\">\n      <th></th>\n      <th>Algorithm</th>\n      <th>F1-score</th>\n      <th>Jaccard</th>\n      <th>LogLoss</th>\n    </tr>\n  </thead>\n  <tbody>\n    <tr>\n      <th>0</th>\n      <td>KNN</td>\n      <td>0.790698</td>\n      <td>0.666667</td>\n      <td>NA</td>\n    </tr>\n    <tr>\n      <th>1</th>\n      <td>Decision Tree</td>\n      <td>0.851064</td>\n      <td>0.740741</td>\n      <td>NA</td>\n    </tr>\n    <tr>\n      <th>2</th>\n      <td>SVM</td>\n      <td>0.876404</td>\n      <td>0.796296</td>\n      <td>NA</td>\n    </tr>\n    <tr>\n      <th>3</th>\n      <td>Logistic Regression</td>\n      <td>0.847826</td>\n      <td>0.740741</td>\n      <td>0.567215</td>\n    </tr>\n  </tbody>\n</table>\n</div>", 
                        "text/plain": "             Algorithm  F1-score   Jaccard   LogLoss\n0                  KNN  0.790698  0.666667        NA\n1        Decision Tree  0.851064  0.740741        NA\n2                  SVM  0.876404  0.796296        NA\n3  Logistic Regression  0.847826  0.740741  0.567215"
                    }, 
                    "output_type": "execute_result"
                }
            ], 
            "source": "data = {'Algorithm': ['KNN', 'Decision Tree', 'SVM', 'Logistic Regression'], \n        'Jaccard': [jaccard_similarity_score(y_test, neigh.predict(X_test)), jaccard_similarity_score(y_test, decTree.predict(X_test)), jaccard_similarity_score(y_test, clf.predict(X_test)), jaccard_similarity_score(y_test, LR.predict(X_test)\n)], \n        'F1-score': [f1_score(y_test, neigh.predict(X_test), pos_label = 'PAIDOFF'),f1_score(y_test, decTree.predict(X_test), pos_label = 'PAIDOFF'),f1_score(y_test, clf.predict(X_test), pos_label = 'PAIDOFF'),f1_score(y_test, LR.predict(X_test), pos_label = 'PAIDOFF')], 'LogLoss': ['NA', 'NA', 'NA',log_loss(y_test, LR.predict_proba(X_test))]}\ntest_acc_df = pd.DataFrame(data=data)\ntest_acc_df.head()"
        }, 
        {
            "source": "# Report\nYou should be able to report the accuracy of the built model using different evaluation metrics:", 
            "cell_type": "markdown", 
            "metadata": {}
        }, 
        
    ], 
    "metadata": {
        "kernelspec": {
            "display_name": "Python 3.5", 
            "name": "python3", 
            "language": "python"
        }, 
        "language_info": {
            "mimetype": "text/x-python", 
            "nbconvert_exporter": "python", 
            "version": "3.5.5", 
            "name": "python", 
            "file_extension": ".py", 
            "pygments_lexer": "ipython3", 
            "codemirror_mode": {
                "version": 3, 
                "name": "ipython"
            }
        }
    }, 
    "nbformat": 4
}
